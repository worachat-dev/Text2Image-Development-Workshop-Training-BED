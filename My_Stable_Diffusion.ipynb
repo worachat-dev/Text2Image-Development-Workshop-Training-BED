{
  "nbformat": 4,
  "nbformat_minor": 0,
  "metadata": {
    "colab": {
      "private_outputs": true,
      "provenance": []
    },
    "kernelspec": {
      "name": "python3",
      "display_name": "Python 3"
    },
    "language_info": {
      "name": "python"
    },
    "accelerator": "GPU",
    "gpuClass": "standard"
  },
  "cells": [
    {
      "cell_type": "markdown",
      "source": [
        "# Collaborative Text-to-Image Project: Hyper-SDXL on Colab, Developed by Worachat Wannawong, Ph.D."
      ],
      "metadata": {
        "id": "6s82yfBrrv9k"
      }
    },
    {
      "cell_type": "code",
      "source": [
        "%pip install --quiet --upgrade diffusers transformers accelerate mediapy peft"
      ],
      "metadata": {
        "id": "ufD_d64nr08H"
      },
      "execution_count": null,
      "outputs": []
    },
    {
      "cell_type": "code",
      "source": [
        "import mediapy as media\n",
        "import random\n",
        "import sys\n",
        "import torch\n",
        "\n",
        "from diffusers import DiffusionPipeline, TCDScheduler\n",
        "from huggingface_hub import hf_hub_download\n",
        "\n",
        "# Choose either 8 or 12 steps:\n",
        "num_inference_steps = 12\n",
        "\n",
        "base_model_id = \"stabilityai/stable-diffusion-xl-base-1.0\"\n",
        "repo_name = \"ByteDance/Hyper-SD\"\n",
        "plural = \"s\" if num_inference_steps > 1 else \"\"\n",
        "ckpt_name = f\"Hyper-SDXL-{num_inference_steps}step{plural}-CFG-lora.safetensors\"\n",
        "device = \"cuda\"\n",
        "\n",
        "pipe = DiffusionPipeline.from_pretrained(base_model_id, torch_dtype=torch.float16, variant=\"fp16\").to(device)\n",
        "pipe.load_lora_weights(hf_hub_download(repo_name, ckpt_name))\n",
        "pipe.fuse_lora()\n",
        "pipe.scheduler = TCDScheduler.from_config(pipe.scheduler.config)"
      ],
      "metadata": {
        "id": "bG2hkmSEvByV"
      },
      "execution_count": null,
      "outputs": []
    },
    {
      "cell_type": "code",
      "source": [
        "import torch\n",
        "import mediapy as media\n",
        "import random\n",
        "import sys\n",
        "\n",
        "from diffusers import DiffusionPipeline, TCDScheduler\n",
        "from huggingface_hub import hf_hub_download\n",
        "\n",
        "# Hyperparameters\n",
        "num_inference_steps = 12\n",
        "base_model_id = \"stabilityai/stable-diffusion-xl-base-1.0\"\n",
        "repo_name = \"ByteDance/Hyper-SD\"\n",
        "plural = \"s\" if num_inference_steps > 1 else \"\"\n",
        "ckpt_name = f\"Hyper-SDXL-{num_inference_steps}step{plural}-CFG-lora.safetensors\"\n",
        "device = \"cuda\"\n",
        "\n",
        "# Load and configure model\n",
        "pipe = DiffusionPipeline.from_pretrained(base_model_id, torch_dtype=torch.float16, variant=\"fp16\").to(device)\n",
        "pipe.load_lora_weights(hf_hub_download(repo_name, ckpt_name))\n",
        "pipe.fuse_lora()\n",
        "pipe.scheduler = TCDScheduler.from_config(pipe.scheduler.config)\n"
      ],
      "metadata": {
        "id": "_j8OsjdC1bAm"
      },
      "execution_count": null,
      "outputs": []
    },
    {
      "cell_type": "code",
      "source": [
        "prompt = \"Egg noodles in a clear, shiny, juicy soup. Boiled pork dumplings, crispy fried pork belly, thinly sliced ​​ grilled red pork sprinkled with pork rinds, chopsticks for holding the noodles large pieces of crab meat All in a large bowl, sliced ​​spring onions, fried garlic for garnish. There is smoke from the food, taken close to a quality studio.\"\n",
        "seed = random.randint(0, sys.maxsize)\n",
        "\n",
        "# Pick a value between 5.0 and 8.0:\n",
        "guidance_scale = 5.0\n",
        "\n",
        "# Decrease eta (min: 0, max: 1.0) to get more details with multi-step inference:\n",
        "eta = 0.5\n",
        "\n",
        "images = pipe(\n",
        "    prompt = prompt,\n",
        "    num_inference_steps = num_inference_steps,\n",
        "    guidance_scale = guidance_scale,\n",
        "    eta = eta,\n",
        "    generator = torch.Generator(device).manual_seed(seed),\n",
        "    ).images\n",
        "\n",
        "print(f\"Prompt:\\t{prompt}\\nSeed:\\t{seed}\")\n",
        "media.show_images(images)\n",
        "images[0].save(\"Egg-noodles.jpg\")"
      ],
      "metadata": {
        "id": "AUc4QJfE-uR9"
      },
      "execution_count": null,
      "outputs": []
    },
    {
      "cell_type": "markdown",
      "source": [
        "**Explanation of changes:**\n",
        "\n",
        "* **Import statements:** Grouped by module type for better readability.\n",
        "* **Hyperparameters:** Defined at the beginning for easier modification.\n",
        "* **Comments:** Added brief explanations for code sections.\n",
        "* **Indentation:** Consistent indentation for improved code clarity.\n",
        "\n",
        "This rearranged code enhances organization and maintainability while preserving the original functionality."
      ],
      "metadata": {
        "id": "eICMnP2U1gMF"
      }
    },
    {
      "cell_type": "code",
      "source": [
        "import random\n",
        "import sys\n",
        "import torch\n",
        "import mediapy as media\n",
        "\n",
        "# Prompt and hyperparameters\n",
        "prompt = \"Egg noodles in a clear, shiny, juicy soup. Boiled pork dumplings, crispy fried pork belly, thinly sliced ​​ grilled red pork sprinkled with pork rinds, chopsticks for holding the noodles large pieces of crab meat All in a large bowl, sliced ​​spring onions, fried garlic for garnish. There is smoke from the food, taken close to a quality studio.\"\n",
        "seed = random.randint(0, sys.maxsize)\n",
        "guidance_scale = 5.0\n",
        "eta = 0.5\n",
        "\n",
        "# Generate image\n",
        "images = pipe(\n",
        "    prompt=prompt,\n",
        "    num_inference_steps=num_inference_steps,\n",
        "    guidance_scale=guidance_scale,\n",
        "    eta=eta,\n",
        "    generator=torch.Generator(device).manual_seed(seed),\n",
        ").images\n",
        "\n",
        "# Display and save image\n",
        "print(f\"Prompt:\\t{prompt}\\nSeed:\\t{seed}\")\n",
        "media.show_images(images)\n",
        "images[0].save(\"Egg-noodles.jpg\")\n"
      ],
      "metadata": {
        "id": "3WyhgAPA1mW6"
      },
      "execution_count": null,
      "outputs": []
    },
    {
      "cell_type": "markdown",
      "source": [
        "**Changes:**\n",
        "\n",
        "* **Import statements:**  Placed at the beginning for better organization.\n",
        "* **Prompt and hyperparameters:**  Grouped together for clarity.\n",
        "* **Image generation and display:**  Separated into distinct sections.\n",
        "This reorganized code improves readability and maintainability while preserving the original functionality."
      ],
      "metadata": {
        "id": "aTYEMg3i2BMG"
      }
    }
  ]
}